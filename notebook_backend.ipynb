{
 "cells": [
  {
   "cell_type": "code",
   "execution_count": 1,
   "id": "714077c9",
   "metadata": {},
   "outputs": [],
   "source": [
    "import am4pa\n",
    "from am4pa.runners import RunnerVariants\n",
    "from am4pa.data_integration import DataCollector\n",
    "\n",
    "from backend_manager import BackendManager,Commands\n",
    "import os\n",
    "\n",
    "from va4algs import Application"
   ]
  },
  {
   "cell_type": "markdown",
   "id": "90f55525",
   "metadata": {},
   "source": [
    "### Linear Algebra Problem:"
   ]
  },
  {
   "cell_type": "code",
   "execution_count": 2,
   "id": "1efbc7e8",
   "metadata": {},
   "outputs": [],
   "source": [
    "local_problem_dir = \"linnea_expressions/matrix-chain-4/\""
   ]
  },
  {
   "cell_type": "code",
   "execution_count": 3,
   "id": "a73af84c",
   "metadata": {},
   "outputs": [],
   "source": [
    "operand_sizes = [\"75\",\"75\",\"6\",\"75\",\"75\"]"
   ]
  },
  {
   "cell_type": "markdown",
   "id": "0b0e3b37",
   "metadata": {},
   "source": [
    "### Set up backend"
   ]
  },
  {
   "cell_type": "code",
   "execution_count": 4,
   "id": "47ae213b",
   "metadata": {},
   "outputs": [],
   "source": [
    "server = \"login18-1.hpc.itc.rwth-aachen.de\"\n",
    "uname = \"as641651\"\n",
    "init_script = \"~/.analyzer\"\n",
    "backend_problem_dir = \"~/PhD/va4algs-exps/matrix-chain-4/\"\n",
    "\n",
    "bm = BackendManager(server=server, uname=uname)\n",
    "cmds = Commands(source=init_script)"
   ]
  },
  {
   "cell_type": "code",
   "execution_count": 6,
   "id": "b628b2ae",
   "metadata": {},
   "outputs": [],
   "source": [
    "bm.connect()"
   ]
  },
  {
   "cell_type": "markdown",
   "id": "5d0d90db",
   "metadata": {},
   "source": [
    "#### Copy problem directory to backend"
   ]
  },
  {
   "cell_type": "code",
   "execution_count": 14,
   "id": "49576490",
   "metadata": {},
   "outputs": [
    {
     "data": {
      "text/plain": [
       "True"
      ]
     },
     "execution_count": 14,
     "metadata": {},
     "output_type": "execute_result"
    }
   ],
   "source": [
    "exp_exists = bm.check_if_file_exists(os.path.join(backend_problem_dir,'generate-variants-linnea.py'))\n",
    "exp_exists"
   ]
  },
  {
   "cell_type": "code",
   "execution_count": 34,
   "id": "5d4b7114",
   "metadata": {},
   "outputs": [
    {
     "name": "stdout",
     "output_type": "stream",
     "text": [
      "scp -r linnea_expressions/matrix-chain-4/ as641651@login18-1.hpc.itc.rwth-aachen.de:~/PhD/va4algs-exps/matrix-chain-4/\n"
     ]
    },
    {
     "name": "stderr",
     "output_type": "stream",
     "text": [
      "perl: warning: Setting locale failed.\n",
      "perl: warning: Please check that your locale settings:\n",
      "\tLANGUAGE = (unset),\n",
      "\tLC_ALL = (unset),\n",
      "\tLANG = \"C.UTF-8\"\n",
      "    are supported and installed on your system.\n",
      "perl: warning: Falling back to the standard locale (\"C\").\n"
     ]
    },
    {
     "name": "stdout",
     "output_type": "stream",
     "text": [
      "b''\n"
     ]
    }
   ],
   "source": [
    "force = False\n",
    "if not exp_exists or force:\n",
    "    bm.copy_to_backend(local_problem_dir,backend_problem_dir)"
   ]
  },
  {
   "cell_type": "code",
   "execution_count": 36,
   "id": "7dab16c4",
   "metadata": {},
   "outputs": [],
   "source": [
    "assert(bm.check_if_file_exists(os.path.join(backend_problem_dir,'generate-variants-linnea.py')))"
   ]
  },
  {
   "cell_type": "markdown",
   "id": "f906cf09",
   "metadata": {},
   "source": [
    "### Generate Variants"
   ]
  },
  {
   "cell_type": "code",
   "execution_count": 37,
   "id": "4d5260f3",
   "metadata": {},
   "outputs": [],
   "source": [
    "#cmds = Commands(source=\"~/.analyzer\")\n",
    "runner = RunnerVariants(operand_sizes, backend_problem_dir, backend_manager=bm,backend_commands=cmds)"
   ]
  },
  {
   "cell_type": "code",
   "execution_count": 38,
   "id": "a4587d26",
   "metadata": {},
   "outputs": [],
   "source": [
    "generation_script = \"generate-variants-linnea.py\""
   ]
  },
  {
   "cell_type": "code",
   "execution_count": 39,
   "id": "37a3b251",
   "metadata": {},
   "outputs": [
    {
     "name": "stdout",
     "output_type": "stream",
     "text": [
      "source ~/.analyzer; cd ~/PhD/va4algs-exps/matrix-chain-4; python generate-variants-linnea.py 75 75 6 75 75 --threads=4\n",
      "['New solution:.............2.02e+05\\n', 'No further generation steps possible.\\n', '----------------------------------\\n', 'Number of nodes:                 8\\n', 'Solution nodes:                  1\\n', 'Data:                     1.78e+04\\n', 'Best solution:            2.02e+05\\n', 'Intensity:                    11.4\\n', 'Number of algorithms:            6\\n', 'Generated Variants.\\n']\n",
      "\u001b[92mSuccess: Backend interactive run: Generate variants\u001b[0m\n"
     ]
    }
   ],
   "source": [
    "ret = runner.generate_variants_for_measurements(generation_script=generation_script)"
   ]
  },
  {
   "cell_type": "markdown",
   "id": "f0ac6bf3",
   "metadata": {},
   "source": [
    "### Collect Data"
   ]
  },
  {
   "cell_type": "code",
   "execution_count": 49,
   "id": "c71b7cff",
   "metadata": {},
   "outputs": [],
   "source": [
    "dc = DataCollector(os.path.join(local_problem_dir, \"cluster-data\"), runner.operands_dir,bm)"
   ]
  },
  {
   "cell_type": "code",
   "execution_count": 50,
   "id": "03dbf8a2",
   "metadata": {},
   "outputs": [
    {
     "name": "stdout",
     "output_type": "stream",
     "text": [
      "scp as641651@login18-1.hpc.itc.rwth-aachen.de:~/PhD/va4algs-exps/matrix-chain-4/experiments/75_75_6_75_75/case_table.csv linnea_expressions/matrix-chain-4/cluster-data\n"
     ]
    },
    {
     "name": "stderr",
     "output_type": "stream",
     "text": [
      "perl: warning: Setting locale failed.\n",
      "perl: warning: Please check that your locale settings:\n",
      "\tLANGUAGE = (unset),\n",
      "\tLC_ALL = (unset),\n",
      "\tLANG = \"C.UTF-8\"\n",
      "    are supported and installed on your system.\n",
      "perl: warning: Falling back to the standard locale (\"C\").\n"
     ]
    },
    {
     "name": "stdout",
     "output_type": "stream",
     "text": [
      "b''\n"
     ]
    }
   ],
   "source": [
    "case_table = dc.get_case_table()"
   ]
  },
  {
   "cell_type": "code",
   "execution_count": 55,
   "id": "89539c1d",
   "metadata": {},
   "outputs": [
    {
     "data": {
      "text/html": [
       "<div>\n",
       "<style scoped>\n",
       "    .dataframe tbody tr th:only-of-type {\n",
       "        vertical-align: middle;\n",
       "    }\n",
       "\n",
       "    .dataframe tbody tr th {\n",
       "        vertical-align: top;\n",
       "    }\n",
       "\n",
       "    .dataframe thead th {\n",
       "        text-align: right;\n",
       "    }\n",
       "</style>\n",
       "<table border=\"1\" class=\"dataframe\">\n",
       "  <thead>\n",
       "    <tr style=\"text-align: right;\">\n",
       "      <th></th>\n",
       "      <th>case:concept:name</th>\n",
       "      <th>case:flops</th>\n",
       "      <th>case:num_kernels</th>\n",
       "    </tr>\n",
       "  </thead>\n",
       "  <tbody>\n",
       "    <tr>\n",
       "      <th>0</th>\n",
       "      <td>algorithm0</td>\n",
       "      <td>202000.0</td>\n",
       "      <td>3</td>\n",
       "    </tr>\n",
       "    <tr>\n",
       "      <th>1</th>\n",
       "      <td>algorithm2</td>\n",
       "      <td>979000.0</td>\n",
       "      <td>3</td>\n",
       "    </tr>\n",
       "    <tr>\n",
       "      <th>2</th>\n",
       "      <td>algorithm4</td>\n",
       "      <td>1760000.0</td>\n",
       "      <td>3</td>\n",
       "    </tr>\n",
       "    <tr>\n",
       "      <th>3</th>\n",
       "      <td>algorithm1</td>\n",
       "      <td>202000.0</td>\n",
       "      <td>3</td>\n",
       "    </tr>\n",
       "    <tr>\n",
       "      <th>4</th>\n",
       "      <td>algorithm5</td>\n",
       "      <td>1760000.0</td>\n",
       "      <td>3</td>\n",
       "    </tr>\n",
       "  </tbody>\n",
       "</table>\n",
       "</div>"
      ],
      "text/plain": [
       "  case:concept:name  case:flops  case:num_kernels\n",
       "0        algorithm0    202000.0                 3\n",
       "1        algorithm2    979000.0                 3\n",
       "2        algorithm4   1760000.0                 3\n",
       "3        algorithm1    202000.0                 3\n",
       "4        algorithm5   1760000.0                 3"
      ]
     },
     "execution_count": 55,
     "metadata": {},
     "output_type": "execute_result"
    }
   ],
   "source": [
    "case_table.head()"
   ]
  },
  {
   "cell_type": "code",
   "execution_count": 56,
   "id": "86b7b9cd",
   "metadata": {},
   "outputs": [],
   "source": [
    "event_table = dc.get_meta_table()"
   ]
  },
  {
   "cell_type": "code",
   "execution_count": 57,
   "id": "938d38a9",
   "metadata": {},
   "outputs": [
    {
     "data": {
      "text/html": [
       "<div>\n",
       "<style scoped>\n",
       "    .dataframe tbody tr th:only-of-type {\n",
       "        vertical-align: middle;\n",
       "    }\n",
       "\n",
       "    .dataframe tbody tr th {\n",
       "        vertical-align: top;\n",
       "    }\n",
       "\n",
       "    .dataframe thead th {\n",
       "        text-align: right;\n",
       "    }\n",
       "</style>\n",
       "<table border=\"1\" class=\"dataframe\">\n",
       "  <thead>\n",
       "    <tr style=\"text-align: right;\">\n",
       "      <th></th>\n",
       "      <th>case:concept:name</th>\n",
       "      <th>concept:name</th>\n",
       "      <th>concept:flops</th>\n",
       "      <th>concept:kernel</th>\n",
       "      <th>concept:operation</th>\n",
       "      <th>timestamp:start</th>\n",
       "    </tr>\n",
       "  </thead>\n",
       "  <tbody>\n",
       "    <tr>\n",
       "      <th>0</th>\n",
       "      <td>algorithm0</td>\n",
       "      <td>gemm_6.75e+04</td>\n",
       "      <td>67500.0</td>\n",
       "      <td>gemm!('N', 'N', 1.0, ml2, ml3, 0.0, ml4)</td>\n",
       "      <td>tmp3 = (C D)</td>\n",
       "      <td>2022-10-18 16:33:15.634146</td>\n",
       "    </tr>\n",
       "    <tr>\n",
       "      <th>1</th>\n",
       "      <td>algorithm0</td>\n",
       "      <td>gemm_6.75e+04</td>\n",
       "      <td>67500.0</td>\n",
       "      <td>gemm!('N', 'N', 1.0, ml0, ml1, 0.0, ml5)</td>\n",
       "      <td>tmp1 = (A B)</td>\n",
       "      <td>2022-10-18 16:33:16.634146</td>\n",
       "    </tr>\n",
       "    <tr>\n",
       "      <th>2</th>\n",
       "      <td>algorithm0</td>\n",
       "      <td>gemm_6.75e+04</td>\n",
       "      <td>67500.0</td>\n",
       "      <td>gemm!('N', 'N', 1.0, ml5, ml4, 0.0, ml6)</td>\n",
       "      <td>tmp6 = (tmp1 tmp3)</td>\n",
       "      <td>2022-10-18 16:33:17.634146</td>\n",
       "    </tr>\n",
       "    <tr>\n",
       "      <th>3</th>\n",
       "      <td>algorithm2</td>\n",
       "      <td>gemm_6.75e+04</td>\n",
       "      <td>67500.0</td>\n",
       "      <td>gemm!('N', 'N', 1.0, ml0, ml1, 0.0, ml4)</td>\n",
       "      <td>tmp1 = (A B)</td>\n",
       "      <td>2022-10-18 16:36:35.634146</td>\n",
       "    </tr>\n",
       "    <tr>\n",
       "      <th>4</th>\n",
       "      <td>algorithm2</td>\n",
       "      <td>gemm_6.75e+04</td>\n",
       "      <td>67500.0</td>\n",
       "      <td>gemm!('N', 'N', 1.0, ml4, ml2, 0.0, ml5)</td>\n",
       "      <td>tmp4 = (tmp1 C)</td>\n",
       "      <td>2022-10-18 16:36:36.634146</td>\n",
       "    </tr>\n",
       "  </tbody>\n",
       "</table>\n",
       "</div>"
      ],
      "text/plain": [
       "  case:concept:name   concept:name  concept:flops  \\\n",
       "0        algorithm0  gemm_6.75e+04        67500.0   \n",
       "1        algorithm0  gemm_6.75e+04        67500.0   \n",
       "2        algorithm0  gemm_6.75e+04        67500.0   \n",
       "3        algorithm2  gemm_6.75e+04        67500.0   \n",
       "4        algorithm2  gemm_6.75e+04        67500.0   \n",
       "\n",
       "                             concept:kernel   concept:operation  \\\n",
       "0  gemm!('N', 'N', 1.0, ml2, ml3, 0.0, ml4)        tmp3 = (C D)   \n",
       "1  gemm!('N', 'N', 1.0, ml0, ml1, 0.0, ml5)        tmp1 = (A B)   \n",
       "2  gemm!('N', 'N', 1.0, ml5, ml4, 0.0, ml6)  tmp6 = (tmp1 tmp3)   \n",
       "3  gemm!('N', 'N', 1.0, ml0, ml1, 0.0, ml4)        tmp1 = (A B)   \n",
       "4  gemm!('N', 'N', 1.0, ml4, ml2, 0.0, ml5)     tmp4 = (tmp1 C)   \n",
       "\n",
       "              timestamp:start  \n",
       "0  2022-10-18 16:33:15.634146  \n",
       "1  2022-10-18 16:33:16.634146  \n",
       "2  2022-10-18 16:33:17.634146  \n",
       "3  2022-10-18 16:36:35.634146  \n",
       "4  2022-10-18 16:36:36.634146  "
      ]
     },
     "execution_count": 57,
     "metadata": {},
     "output_type": "execute_result"
    }
   ],
   "source": [
    "event_table.head()"
   ]
  },
  {
   "cell_type": "markdown",
   "id": "cb7e9e30",
   "metadata": {},
   "source": [
    "### Initialize va4algs"
   ]
  },
  {
   "cell_type": "code",
   "execution_count": 5,
   "id": "7f6988ff",
   "metadata": {},
   "outputs": [],
   "source": [
    "flask_port = 5003\n",
    "\n",
    "app = Application(local_problem_dir=local_problem_dir,\n",
    "                 flask_port=flask_port,\n",
    "                 default_operand_size=operand_sizes,\n",
    "                 language=\"linnea\",\n",
    "                 app_dir=\"app/\")\n",
    "\n",
    "app.use_measurement_server(server=server,\n",
    "                          uname=uname,\n",
    "                          problem_dir=backend_problem_dir,\n",
    "                          init_script=init_script)\n",
    "\n",
    "app.initialize()"
   ]
  },
  {
   "cell_type": "markdown",
   "id": "b34612a2",
   "metadata": {},
   "source": [
    "### Run a local Flask server"
   ]
  },
  {
   "cell_type": "code",
   "execution_count": 6,
   "id": "0415f788",
   "metadata": {},
   "outputs": [
    {
     "name": "stdout",
     "output_type": "stream",
     "text": [
      " * Serving Flask app \"app\" (lazy loading)\n",
      " * Environment: production\n",
      "\u001b[31m   WARNING: This is a development server. Do not use it in a production deployment.\u001b[0m\n",
      "\u001b[2m   Use a production WSGI server instead.\u001b[0m\n",
      " * Debug mode: on\n",
      " * Running on http://127.0.0.1:5003/ (Press CTRL+C to quit)\n",
      " * Restarting with watchdog (inotify)\n",
      " * Debugger is active!\n",
      " * Debugger PIN: 650-530-613\n",
      "127.0.0.1 - - [19/Oct/2022 15:45:08] \"GET /hello HTTP/1.1\" 200 -\n",
      "^C\n"
     ]
    }
   ],
   "source": [
    "!python app/app.py"
   ]
  },
  {
   "cell_type": "markdown",
   "id": "150c4a44",
   "metadata": {},
   "source": [
    "<a class=\"btn btn-primary btn-lg\" href=\"app/index.html\" role=\"button\">Analyse</a>"
   ]
  },
  {
   "cell_type": "code",
   "execution_count": 2,
   "id": "2ebd5648",
   "metadata": {},
   "outputs": [],
   "source": [
    "int"
   ]
  },
  {
   "cell_type": "code",
   "execution_count": null,
   "id": "f6352765",
   "metadata": {},
   "outputs": [],
   "source": []
  },
  {
   "cell_type": "code",
   "execution_count": null,
   "id": "77e420ff",
   "metadata": {},
   "outputs": [],
   "source": []
  }
 ],
 "metadata": {
  "kernelspec": {
   "display_name": "Python 3 (ipykernel)",
   "language": "python",
   "name": "python3"
  },
  "language_info": {
   "codemirror_mode": {
    "name": "ipython",
    "version": 3
   },
   "file_extension": ".py",
   "mimetype": "text/x-python",
   "name": "python",
   "nbconvert_exporter": "python",
   "pygments_lexer": "ipython3",
   "version": "3.9.12"
  }
 },
 "nbformat": 4,
 "nbformat_minor": 5
}
