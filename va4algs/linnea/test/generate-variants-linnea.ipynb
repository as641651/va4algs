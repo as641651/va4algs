{
 "cells": [
  {
   "cell_type": "code",
   "execution_count": 2,
   "id": "0f34f986",
   "metadata": {},
   "outputs": [],
   "source": [
    "import pkg_resources"
   ]
  },
  {
   "cell_type": "code",
   "execution_count": 93,
   "id": "a563190d",
   "metadata": {},
   "outputs": [],
   "source": [
    "template_path = \"../template/generate-variants-linnea.py\"\n",
    "\n",
    "with open(template_path, \"r\") as file:\n",
    "    template_string = file.read()"
   ]
  },
  {
   "cell_type": "code",
   "execution_count": 94,
   "id": "0c7c191e",
   "metadata": {},
   "outputs": [],
   "source": [
    "expr = \"gls.py\"\n",
    "with open(expr, \"r\") as file:\n",
    "    expr_string = file.read()"
   ]
  },
  {
   "cell_type": "code",
   "execution_count": 106,
   "id": "3bf9defd",
   "metadata": {},
   "outputs": [
    {
     "data": {
      "text/plain": [
       "('generalized_least_squares', 2)"
      ]
     },
     "execution_count": 106,
     "metadata": {},
     "output_type": "execute_result"
    }
   ],
   "source": [
    "for s_ in expr_string.split('\\n'):\n",
    "    if 'def' in s_:  \n",
    "        expr_fn = s_.split('(')[0].split('def')[-1].strip()\n",
    "        num_params = len(s_.split('(')[-1].split(','))\n",
    "        break\n",
    "expr_fn, num_params"
   ]
  },
  {
   "cell_type": "code",
   "execution_count": 97,
   "id": "1669e653",
   "metadata": {},
   "outputs": [
    {
     "data": {
      "text/plain": [
       "'{}_{}_{}T/'"
      ]
     },
     "execution_count": 97,
     "metadata": {},
     "output_type": "execute_result"
    }
   ],
   "source": [
    "d_str = ''\n",
    "for i in range(num_params):\n",
    "    d_str += '{}_'\n",
    "d_str += '{}T/'\n",
    "d_str"
   ]
  },
  {
   "cell_type": "code",
   "execution_count": 98,
   "id": "4f5b0ca3",
   "metadata": {},
   "outputs": [],
   "source": [
    "inject = {\n",
    "        'expression_code':expr_string,\n",
    "        'num_params':num_params,\n",
    "        'd_str':d_str,\n",
    "        'code_dir':'./',\n",
    "        'expression_fn': expr_fn\n",
    "}"
   ]
  },
  {
   "cell_type": "code",
   "execution_count": null,
   "id": "9d30e11f",
   "metadata": {},
   "outputs": [],
   "source": []
  },
  {
   "cell_type": "code",
   "execution_count": 100,
   "id": "ed34e48f",
   "metadata": {},
   "outputs": [],
   "source": [
    "out_file = 'temp.py'"
   ]
  },
  {
   "cell_type": "code",
   "execution_count": 101,
   "id": "4f9628ae",
   "metadata": {},
   "outputs": [],
   "source": [
    "with open(out_file, \"wt\", encoding='utf-8') as of:\n",
    "    of.write(template_string.format(**inject))"
   ]
  },
  {
   "cell_type": "markdown",
   "id": "ed746204",
   "metadata": {},
   "source": [
    "\n",
    "### Module test"
   ]
  },
  {
   "cell_type": "code",
   "execution_count": 1,
   "id": "19a2f345",
   "metadata": {},
   "outputs": [
    {
     "name": "stderr",
     "output_type": "stream",
     "text": [
      "Intel(R) Extension for Scikit-learn* enabled (https://github.com/intel/scikit-learn-intelex)\n"
     ]
    }
   ],
   "source": [
    "from va4algs.linnea import expr_init"
   ]
  },
  {
   "cell_type": "code",
   "execution_count": 2,
   "id": "09c09c87",
   "metadata": {},
   "outputs": [],
   "source": [
    "expr_init('gls.py', 'text_expr/')"
   ]
  },
  {
   "cell_type": "code",
   "execution_count": null,
   "id": "b484d923",
   "metadata": {},
   "outputs": [],
   "source": []
  }
 ],
 "metadata": {
  "kernelspec": {
   "display_name": "Python 3 (ipykernel)",
   "language": "python",
   "name": "python3"
  },
  "language_info": {
   "codemirror_mode": {
    "name": "ipython",
    "version": 3
   },
   "file_extension": ".py",
   "mimetype": "text/x-python",
   "name": "python",
   "nbconvert_exporter": "python",
   "pygments_lexer": "ipython3",
   "version": "3.9.7"
  }
 },
 "nbformat": 4,
 "nbformat_minor": 5
}
